{
  "nbformat": 4,
  "nbformat_minor": 0,
  "metadata": {
    "colab": {
      "provenance": [],
      "gpuType": "T4"
    },
    "kernelspec": {
      "name": "python3",
      "display_name": "Python 3"
    },
    "language_info": {
      "name": "python"
    },
    "accelerator": "GPU"
  },
  "cells": [
    {
      "cell_type": "code",
      "execution_count": 1,
      "metadata": {
        "colab": {
          "base_uri": "https://localhost:8080/"
        },
        "id": "V_X1sk6ASCks",
        "outputId": "1c908407-4984-4c40-beb0-3c11f0e78ff5"
      },
      "outputs": [
        {
          "output_type": "stream",
          "name": "stderr",
          "text": [
            "[nltk_data] Downloading package stopwords to /root/nltk_data...\n",
            "[nltk_data]   Unzipping corpora/stopwords.zip.\n",
            "[nltk_data] Downloading package wordnet to /root/nltk_data...\n",
            "[nltk_data] Downloading package punkt to /root/nltk_data...\n",
            "[nltk_data]   Unzipping tokenizers/punkt.zip.\n"
          ]
        },
        {
          "output_type": "execute_result",
          "data": {
            "text/plain": [
              "True"
            ]
          },
          "metadata": {},
          "execution_count": 1
        }
      ],
      "source": [
        "import pandas as pd\n",
        "import numpy as np\n",
        "import nltk\n",
        "import re\n",
        "import torch\n",
        "import random\n",
        "from nltk.corpus import stopwords\n",
        "from nltk.stem import WordNetLemmatizer\n",
        "from nltk.tokenize import word_tokenize\n",
        "from torch import nn\n",
        "from torch.utils.data import Dataset, DataLoader\n",
        "from collections import Counter\n",
        "\n",
        "nltk.download('stopwords')\n",
        "nltk.download('wordnet')\n",
        "nltk.download('punkt')"
      ]
    },
    {
      "cell_type": "code",
      "source": [
        "stop_words = set(stopwords.words('english'))\n",
        "lemmatizer = WordNetLemmatizer()\n",
        "\n",
        "def preprocess(text):\n",
        "    text = text.lower()\n",
        "    text = re.sub(r'[^a-z0-9\\s]', '', text)\n",
        "    tokens = word_tokenize(text)\n",
        "    filtered_tokens = [token for token in tokens if token not in stop_words]\n",
        "    lemmatized_tokens = [lemmatizer.lemmatize(token) for token in filtered_tokens]\n",
        "    preprocessed_text = ' '.join(lemmatized_tokens)\n",
        "    return preprocessed_text\n",
        "\n",
        "\n",
        "import requests\n",
        "url = 'https://sherlock-holm.es/stories/plain-text/advs.txt'\n",
        "response = requests.get(url)\n",
        "if response.status_code == 200:\n",
        "    text = response.text\n",
        "    preprocessed_text = preprocess(text)\n",
        "    print(preprocessed_text[:500])\n",
        "else:\n",
        "    print(\"ERROR\")"
      ],
      "metadata": {
        "colab": {
          "base_uri": "https://localhost:8080/"
        },
        "id": "1px0acZJSpMM",
        "outputId": "c39fac19-c854-491f-b6bd-1a6fdeb5f6ed"
      },
      "execution_count": 2,
      "outputs": [
        {
          "output_type": "stream",
          "name": "stdout",
          "text": [
            "adventure sherlock holmes arthur conan doyle table content scandal bohemia redheaded league case identity boscombe valley mystery five orange pip man twisted lip adventure blue carbuncle adventure speckled band adventure engineer thumb adventure noble bachelor adventure beryl coronet adventure copper beech scandal bohemia table content chapter 1 chapter 2 chapter 3 chapter sherlock holmes always woman seldom heard mention name eye eclipse predominates whole sex felt emotion akin love irene adler\n"
          ]
        }
      ]
    },
    {
      "cell_type": "code",
      "source": [
        "words = preprocessed_text.split()\n",
        "\n",
        "VOCAB_SIZE = len(set(words))\n",
        "word_counts = Counter(words)\n",
        "most_common_words = word_counts.most_common(VOCAB_SIZE)\n",
        "word2idx = {word: idx for idx, (word, _) in enumerate(most_common_words)}\n",
        "idx2word = {idx: word for word, idx in word2idx.items()}\n",
        "\n",
        "WINDOW_SIZE = 5\n",
        "EMBEDDING_DIM = 100\n",
        "BATCH_SIZE = 128\n",
        "NEGATIVE_SAMPLES = 4\n",
        "\n",
        "data = []\n",
        "for i, word in enumerate(words):\n",
        "    idx = word2idx.get(word, None)\n",
        "    if idx is None:\n",
        "        continue\n",
        "    for j in range(max(i - WINDOW_SIZE, 0), min(i + WINDOW_SIZE + 1, len(words))):\n",
        "        if i != j:\n",
        "            context_word = words[j]\n",
        "            context_idx = word2idx.get(context_word, None)\n",
        "            if context_idx is not None:\n",
        "                data.append((idx, context_idx))\n",
        "\n",
        "class NegativeSamplingDataset(Dataset):\n",
        "    def __init__(self, data, word_counts, negative_samples):\n",
        "        self.data = data\n",
        "        self.negative_samples = negative_samples\n",
        "        self.weights = torch.FloatTensor(list(word_counts.values())) ** 0.75\n",
        "        self.weights = self.weights / self.weights.sum()\n",
        "\n",
        "    def __len__(self):\n",
        "        return len(self.data)\n",
        "\n",
        "    def __getitem__(self, idx):\n",
        "        target, context = self.data[idx]\n",
        "        negative_samples = torch.multinomial(self.weights, self.negative_samples * 10).tolist()\n",
        "        negatives = [neg for neg in negative_samples if neg != context][:self.negative_samples]\n",
        "        return target, context, negatives\n",
        "\n",
        "dataset = NegativeSamplingDataset(data, word_counts, NEGATIVE_SAMPLES)\n",
        "dataloader = DataLoader(dataset, batch_size=BATCH_SIZE, shuffle=True)\n",
        "\n",
        "class SkipGramNegativeSampling(nn.Module):\n",
        "    def __init__(self, vocab_size, embedding_dim, negative_samples):\n",
        "        super(SkipGramNegativeSampling, self).__init__()\n",
        "        self.input_embeddings = nn.Embedding(vocab_size, embedding_dim)\n",
        "        self.output_embeddings = nn.Embedding(vocab_size, embedding_dim)\n",
        "        self.negative_samples = negative_samples\n",
        "\n",
        "    def forward(self, target_words, context_words, negative_words):\n",
        "        target_embed = self.input_embeddings(target_words)\n",
        "        context_embed = self.output_embeddings(context_words)\n",
        "        negative_embed = self.output_embeddings(negative_words)\n",
        "        positive_scores = torch.mul(target_embed, context_embed).sum(dim=1)\n",
        "        target_embed = target_embed.unsqueeze(2)\n",
        "        negative_embed = negative_embed.view(-1, self.negative_samples, EMBEDDING_DIM)\n",
        "        negative_scores = torch.bmm(negative_embed, target_embed).squeeze()\n",
        "        positive_loss = torch.nn.functional.logsigmoid(positive_scores)\n",
        "        negative_loss = torch.nn.functional.logsigmoid(-negative_scores).sum(dim=1)\n",
        "        return -(positive_loss + negative_loss).mean()\n",
        "\n",
        "model = SkipGramNegativeSampling(VOCAB_SIZE, EMBEDDING_DIM, NEGATIVE_SAMPLES)\n",
        "optimizer = torch.optim.Adam(model.parameters(), lr=0.005)\n",
        "\n",
        "EPOCHS = 10\n",
        "for epoch in range(EPOCHS):\n",
        "    epoch_loss = 0\n",
        "    for batch_idx, (target, context, negatives) in enumerate(dataloader):\n",
        "        target = torch.LongTensor(target)\n",
        "        context = torch.LongTensor(context)\n",
        "        negatives = torch.LongTensor(np.array(negatives))\n",
        "\n",
        "        optimizer.zero_grad()\n",
        "        loss = model(target, context, negatives)\n",
        "        loss.backward()\n",
        "        optimizer.step()\n",
        "        epoch_loss += loss.item()\n",
        "    print(f\"Epoch {epoch+1}/{EPOCHS}, Loss: {epoch_loss/len(dataloader)}\")\n",
        "\n",
        "input_vectors = model.input_embeddings.weight.data.cpu().numpy()\n",
        "output_vectors = model.output_embeddings.weight.data.cpu().numpy()\n",
        "word_vectors = (input_vectors + output_vectors) / 2"
      ],
      "metadata": {
        "colab": {
          "base_uri": "https://localhost:8080/"
        },
        "id": "4EADud9yUjYj",
        "outputId": "1baa92b6-1114-4db7-ca1b-296ee7045abc"
      },
      "execution_count": 3,
      "outputs": [
        {
          "output_type": "stream",
          "name": "stdout",
          "text": [
            "Epoch 1/10, Loss: 10.948303763620235\n",
            "Epoch 2/10, Loss: 3.516292194247866\n",
            "Epoch 3/10, Loss: 2.2914876230969163\n",
            "Epoch 4/10, Loss: 1.8361357927191784\n",
            "Epoch 5/10, Loss: 1.6044973532685316\n",
            "Epoch 6/10, Loss: 1.4610660599212522\n",
            "Epoch 7/10, Loss: 1.365205504932785\n",
            "Epoch 8/10, Loss: 1.299692325708279\n",
            "Epoch 9/10, Loss: 1.2533889290438192\n",
            "Epoch 10/10, Loss: 1.221470592822548\n"
          ]
        }
      ]
    },
    {
      "cell_type": "code",
      "source": [
        "word_vectors = torch.tensor(word_vectors).float()\n",
        "required_words = ['king', 'man', 'woman', 'queen']\n",
        "if not all(word in word2idx for word in required_words):\n",
        "    raise ValueError(\"Required words not all in the vocabulary!\")\n",
        "\n",
        "def normalize_embeddings(embeddings):\n",
        "    norms = torch.norm(embeddings, p=2, dim=1, keepdim=True)\n",
        "    return embeddings / norms\n",
        "\n",
        "normalized_vectors = normalize_embeddings(word_vectors)\n",
        "\n",
        "king_idx = word2idx['king']\n",
        "man_idx = word2idx['man']\n",
        "woman_idx = word2idx['woman']\n",
        "queen_idx = word2idx['queen']\n",
        "\n",
        "king_vec = normalized_vectors[king_idx]\n",
        "man_vec = normalized_vectors[man_idx]\n",
        "woman_vec = normalized_vectors[woman_idx]\n",
        "queen_vec = normalized_vectors[queen_idx]\n",
        "\n",
        "approximate_queen_vec = king_vec - man_vec + woman_vec\n",
        "cosine_similarity = torch.nn.functional.cosine_similarity(approximate_queen_vec.unsqueeze(0), queen_vec.unsqueeze(0))\n",
        "print(f\"Cosine similarity between 'queen' and 'king - man + woman': {cosine_similarity.item()}\")"
      ],
      "metadata": {
        "colab": {
          "base_uri": "https://localhost:8080/"
        },
        "id": "Fcrs9phgbxTf",
        "outputId": "6db296de-3642-4d73-b56e-a32a43d55fae"
      },
      "execution_count": 4,
      "outputs": [
        {
          "output_type": "stream",
          "name": "stdout",
          "text": [
            "Cosine similarity between 'queen' and 'king - man + woman': 0.23352956771850586\n"
          ]
        }
      ]
    },
    {
      "cell_type": "code",
      "source": [
        "import numpy as np\n",
        "import matplotlib.pyplot as plt\n",
        "from sklearn.decomposition import PCA\n",
        "\n",
        "required_words = ['brother', 'sister', 'uncle', 'aunt']\n",
        "if not all(word in word2idx for word in required_words):\n",
        "    raise ValueError(\"Required words not all in the vocabulary!\")\n",
        "\n",
        "indices = [word2idx[word] for word in required_words]\n",
        "\n",
        "selected_word_vectors = word_vectors[indices]\n",
        "\n",
        "pca = PCA(n_components=2)\n",
        "reduced_vectors = pca.fit_transform(selected_word_vectors)\n",
        "word_to_pca_vec = {word: reduced_vectors[i] for i, word in enumerate(required_words)}\n",
        "diff_vector_brother_sister = word_to_pca_vec['brother'] - word_to_pca_vec['sister']\n",
        "diff_vector_uncle_aunt = word_to_pca_vec['uncle'] - word_to_pca_vec['aunt']\n",
        "plt.figure()\n",
        "plt.scatter(reduced_vectors[:, 0], reduced_vectors[:, 1])\n",
        "\n",
        "for word, (x, y) in word_to_pca_vec.items():\n",
        "    plt.annotate(word, (x, y), textcoords=\"offset points\", xytext=(0,10), ha='center')\n",
        "\n",
        "plt.arrow(word_to_pca_vec['sister'][0], word_to_pca_vec['sister'][1], diff_vector_brother_sister[0], diff_vector_brother_sister[1], head_width=0.05, head_length=0.1, fc='green', ec='green')\n",
        "plt.arrow(word_to_pca_vec['aunt'][0], word_to_pca_vec['aunt'][1], diff_vector_uncle_aunt[0], diff_vector_uncle_aunt[1], head_width=0.05, head_length=0.1, fc='red', ec='red')\n",
        "\n",
        "plt.title(\"PCA Word Vector Visualization\")\n",
        "plt.xlabel(\"PCA Component 1\")\n",
        "plt.ylabel(\"PCA Component 2\")\n",
        "plt.grid(True)\n",
        "plt.show()"
      ],
      "metadata": {
        "colab": {
          "base_uri": "https://localhost:8080/",
          "height": 472
        },
        "id": "7HVpYyWBabjo",
        "outputId": "0d7676da-7775-443e-ca88-41413fb7f852"
      },
      "execution_count": 5,
      "outputs": [
        {
          "output_type": "display_data",
          "data": {
            "text/plain": [
              "<Figure size 640x480 with 1 Axes>"
            ],
            "image/png": "[encoded data removed]"
          },
          "metadata": {}
        }
      ]
    },
    {
      "cell_type": "markdown",
      "source": [],
      "metadata": {
        "id": "X4Z2I0xpREmZ"
      }
    }
  ]
}