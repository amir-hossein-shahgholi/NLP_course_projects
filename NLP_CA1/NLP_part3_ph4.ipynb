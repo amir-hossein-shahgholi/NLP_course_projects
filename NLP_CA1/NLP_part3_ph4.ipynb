{
  "nbformat": 4,
  "nbformat_minor": 0,
  "metadata": {
    "colab": {
      "provenance": []
    },
    "kernelspec": {
      "name": "python3",
      "display_name": "Python 3"
    },
    "language_info": {
      "name": "python"
    }
  },
  "cells": [
    {
      "cell_type": "code",
      "source": [
        "import re\n",
        "import nltk\n",
        "from nltk import word_tokenize\n",
        "from nltk.util import ngrams\n",
        "from collections import Counter\n",
        "import random\n",
        "\n",
        "with open(\"Tarzan.txt\", \"r\", encoding=\"utf-8\") as file:\n",
        "    corpus = file.read()\n",
        "\n",
        "clean_text = re.sub(r\"[^\\w\\s]\", \"\", corpus).replace('\\ufeff', '')\n",
        "tokens = word_tokenize(clean_text, language='english')"
      ],
      "metadata": {
        "id": "et2XCn1b2UUG"
      },
      "execution_count": 2,
      "outputs": []
    },
    {
      "cell_type": "code",
      "source": [
        "trigrams = list(ngrams(tokens, 3))\n",
        "trigram_freq = Counter(trigrams)\n",
        "bigram_freq = Counter(ngrams(tokens, 2))\n",
        "\n",
        "vocab_size = len(set(tokens))\n",
        "\n",
        "trigram_probs = {}\n",
        "for ngram, count in trigram_freq.items():\n",
        "    bigram = ngram[:2]\n",
        "    trigram_probs[ngram] = (count + 1) / (bigram_freq.get(bigram, 0) + vocab_size)\n",
        "\n",
        "sentence = \"For half a day he lolled on the huge back and\".split(' ')\n",
        "\n",
        "for _ in range(10):\n",
        "    potential_next_trigrams = [(ngram[2], trigram_probs.get(ngram, 1/vocab_size))\n",
        "                               for ngram in trigram_probs\n",
        "                               if ngram[:2] == tuple(sentence[-2:])]\n",
        "\n",
        "    if potential_next_trigrams:\n",
        "        total_prob = sum(prob for _, prob in potential_next_trigrams)\n",
        "        random_num = random.uniform(0, total_prob)\n",
        "        cumulative_prob = 0\n",
        "        for word, prob in potential_next_trigrams:\n",
        "            cumulative_prob += prob\n",
        "            if cumulative_prob >= random_num:\n",
        "                next_word = word\n",
        "                break\n",
        "        sentence.append(next_word)\n",
        "    else:\n",
        "        break\n",
        "\n",
        "completed_sentence = ' '.join(sentence)\n",
        "print(\"Generated sentence:\", completed_sentence)"
      ],
      "metadata": {
        "colab": {
          "base_uri": "https://localhost:8080/"
        },
        "id": "4pmXhNx52oDv",
        "outputId": "08278e72-1452-4c9c-acde-e333143c38d0"
      },
      "execution_count": 29,
      "outputs": [
        {
          "output_type": "stream",
          "name": "stdout",
          "text": [
            "Generated sentence: For half a day he lolled on the huge back and join me but that of Gobred these were champions whose\n"
          ]
        }
      ]
    },
    {
      "cell_type": "code",
      "source": [
        "fivegrams = list(ngrams(tokens, 5))\n",
        "fivegram_freq = Counter(fivegrams)\n",
        "fourgram_freq = Counter(ngrams(tokens, 4))\n",
        "vocab_size = len(set(tokens))\n",
        "\n",
        "fivegram_probs = {}\n",
        "for ngram, count in fivegram_freq.items():\n",
        "    fourgram = ngram[:4]\n",
        "    fivegram_probs[ngram] = (count + 1) / (fourgram_freq.get(fourgram, 0) + vocab_size)\n",
        "\n",
        "sentence = \"For half a day he lolled on the huge back and\".split(' ')\n",
        "\n",
        "for _ in range(10):\n",
        "    potential_next_fivegrams = [(ngram[4], fivegram_probs.get(ngram, 1/vocab_size))\n",
        "                                for ngram in fivegram_probs\n",
        "                                if ngram[:4] == tuple(sentence[-4:])]\n",
        "    if not potential_next_fivegrams:\n",
        "        potential_next_fourgrams = []\n",
        "        for ngram, count in fourgram_freq.items():\n",
        "            if ngram[:3] == tuple(sentence[-3:]):\n",
        "                fourgram = ngram[:3]\n",
        "                prob = (count + 1) / (trigram_freq.get(fourgram, 0) + vocab_size)\n",
        "                potential_next_fourgrams.append((ngram[3], prob))\n",
        "\n",
        "        if not potential_next_fourgrams:\n",
        "            potential_next_trigrams = [(token, 1/vocab_size) for token in tokens if (sentence[-2], sentence[-1], token) in trigram_freq]\n",
        "            next_word = random.choice(potential_next_trigrams)[0]\n",
        "            sentence.append(next_word)\n",
        "        else:\n",
        "            total_prob = sum(prob for _, prob in potential_next_fourgrams)\n",
        "            random_num = random.uniform(0, total_prob)\n",
        "            cumulative_prob = 0\n",
        "            for word, prob in potential_next_fourgrams:\n",
        "                cumulative_prob += prob\n",
        "                if cumulative_prob >= random_num:\n",
        "                    next_word = word\n",
        "                    break\n",
        "            sentence.append(next_word)\n",
        "    else:\n",
        "        total_prob = sum(prob for _, prob in potential_next_fivegrams)\n",
        "        random_num = random.uniform(0, total_prob)\n",
        "        cumulative_prob = 0\n",
        "        for word, prob in potential_next_fivegrams:\n",
        "            cumulative_prob += prob\n",
        "            if cumulative_prob >= random_num:\n",
        "                next_word = word\n",
        "                break\n",
        "        sentence.append(next_word)\n",
        "\n",
        "completed_sentence = ' '.join(sentence)\n",
        "print(\"Generated sentence:\", completed_sentence)"
      ],
      "metadata": {
        "colab": {
          "base_uri": "https://localhost:8080/"
        },
        "id": "hQgKko40Ao-m",
        "outputId": "bf56755f-9820-45b0-899b-4a4086f24569"
      },
      "execution_count": 40,
      "outputs": [
        {
          "output_type": "stream",
          "name": "stdout",
          "text": [
            "Generated sentence: For half a day he lolled on the huge back and overtake you without much loss of time If you catch\n"
          ]
        }
      ]
    }
  ]
}