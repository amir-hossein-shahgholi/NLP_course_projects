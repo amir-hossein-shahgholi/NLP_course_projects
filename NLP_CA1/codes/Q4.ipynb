{
  "cells": [
    {
      "cell_type": "code",
      "execution_count": 1,
      "metadata": {
        "id": "o7VelLEw17ka"
      },
      "outputs": [
        {
          "name": "stderr",
          "output_type": "stream",
          "text": [
            "[nltk_data] Downloading package punkt to /Users/admin/nltk_data...\n",
            "[nltk_data]   Package punkt is already up-to-date!\n"
          ]
        },
        {
          "data": {
            "text/plain": [
              "True"
            ]
          },
          "execution_count": 1,
          "metadata": {},
          "output_type": "execute_result"
        }
      ],
      "source": [
        "import nltk\n",
        "import numpy as np\n",
        "import pandas as pd\n",
        "from nltk import ngrams\n",
        "from nltk.probability import FreqDist\n",
        "from sklearn.model_selection import train_test_split\n",
        "\n",
        "nltk.download('punkt')"
      ]
    },
    {
      "cell_type": "code",
      "execution_count": 3,
      "metadata": {
        "id": "2ROsWwTCGyRC"
      },
      "outputs": [],
      "source": [
        "# Step 1: Load the data\n",
        "data = pd.read_csv('../data/google_play_store_apps_reviews.csv')\n",
        "\n",
        "# Step 2: Split the data\n",
        "train_data, test_data = train_test_split(data, test_size = 0.2, random_state = 42)"
      ]
    },
    {
      "cell_type": "code",
      "execution_count": 114,
      "metadata": {
        "id": "LCLxiqPwvdoc"
      },
      "outputs": [
        {
          "name": "stdout",
          "output_type": "stream",
          "text": [
            "[(('!', '!'), 108), (('.', 'i'), 48), (('it', \"'s\"), 45), (('this', 'app'), 35), (('it', 'is'), 33), ((',', 'but'), 27), (('i', 'love'), 25), (('of', 'the'), 25), (('.', 'it'), 21), (('this', 'game'), 21)]\n",
            "[(('.', 'i'), 124), (('ca', \"n't\"), 91), (('!', '!'), 84), (('i', 'have'), 72), (('does', \"n't\"), 67), (('do', \"n't\"), 66), (('the', 'app'), 66), (('it', \"'s\"), 64), (('.', 'it'), 56), ((',', 'i'), 47)]\n"
          ]
        }
      ],
      "source": [
        "# Step 3: Build the n-gram Language Model\n",
        "def get_ngrams(text, n):\n",
        "    tokens = nltk.word_tokenize(text)\n",
        "    return list(ngrams(tokens, n))\n",
        "\n",
        "def train_ngram(data, n):\n",
        "    positive_ngrams = []\n",
        "    negative_ngrams = []\n",
        "\n",
        "    for _, row in data.iterrows():\n",
        "        grams = get_ngrams(row['review'], n)\n",
        "        if row['polarity'] == 1:\n",
        "            positive_ngrams.extend(grams)\n",
        "        elif row['polarity'] == 0:\n",
        "            negative_ngrams.extend(grams)\n",
        "\n",
        "    positive_freq = FreqDist(positive_ngrams)\n",
        "    negative_freq = FreqDist(negative_ngrams)\n",
        "\n",
        "    return positive_freq, negative_freq\n",
        "\n",
        "n = 2\n",
        "positive_freq, negative_freq = train_ngram(train_data, n)\n",
        "print(positive_freq.most_common(10))\n",
        "print(negative_freq.most_common(10))"
      ]
    },
    {
      "cell_type": "code",
      "execution_count": 115,
      "metadata": {
        "id": "eOWfIRYpwJjD"
      },
      "outputs": [],
      "source": [
        "import math\n",
        "from collections import Counter\n",
        "\n",
        "def test_ngram(data, positive_freq, negative_freq, n):\n",
        "    pred_labels = []\n",
        "    vocab_size = len(set(positive_freq.keys()).union(set(negative_freq.keys())))\n",
        "    log_pos_denominator = math.log(sum(positive_freq.values()) + vocab_size)\n",
        "    log_neg_denominator = math.log(sum(negative_freq.values()) + vocab_size)\n",
        "\n",
        "    for _, row in data.iterrows():\n",
        "        \n",
        "        grams = get_ngrams(row['review'], n)\n",
        "        log_positive_prob = 0\n",
        "        log_negative_prob = 0\n",
        "\n",
        "        review_counter = Counter(grams)\n",
        "        for gram, _ in review_counter.items():\n",
        "            if gram in positive_freq or gram in negative_freq:\n",
        "                log_positive_prob += math.log(positive_freq.get(gram, 0) + 1) - log_pos_denominator\n",
        "                log_negative_prob += math.log(negative_freq.get(gram, 0) + 1) - log_neg_denominator\n",
        "        \n",
        "        if log_positive_prob >= log_negative_prob:\n",
        "            pred_labels.append(1)\n",
        "        else:\n",
        "            pred_labels.append(0)\n",
        "\n",
        "    return pred_labels"
      ]
    },
    {
      "cell_type": "code",
      "execution_count": 117,
      "metadata": {},
      "outputs": [
        {
          "name": "stdout",
          "output_type": "stream",
          "text": [
            "Accuracy: 0.8547486033519553\n",
            "Precision: 0.8461538461538461\n",
            "Recall: 0.6226415094339622\n",
            "F1 Score: 0.717391304347826\n"
          ]
        }
      ],
      "source": [
        "from sklearn.metrics import accuracy_score, precision_score, recall_score, f1_score, confusion_matrix\n",
        "\n",
        "pred_labels = test_ngram(test_data, positive_freq, negative_freq, n)\n",
        "\n",
        "true_labels = test_data['polarity'].tolist()\n",
        "\n",
        "accuracy = accuracy_score(true_labels, pred_labels)\n",
        "precision = precision_score(true_labels, pred_labels)\n",
        "recall = recall_score(true_labels, pred_labels)\n",
        "f1 = f1_score(true_labels, pred_labels)\n",
        "cm = confusion_matrix(true_labels, pred_labels)\n",
        "\n",
        "print(f'Accuracy: {accuracy}')\n",
        "print(f'Precision: {precision}')\n",
        "print(f'Recall: {recall}')\n",
        "print(f'F1 Score: {f1}')"
      ]
    }
  ],
  "metadata": {
    "colab": {
      "provenance": []
    },
    "kernelspec": {
      "display_name": "Python 3",
      "name": "python3"
    },
    "language_info": {
      "codemirror_mode": {
        "name": "ipython",
        "version": 3
      },
      "file_extension": ".py",
      "mimetype": "text/x-python",
      "name": "python",
      "nbconvert_exporter": "python",
      "pygments_lexer": "ipython3",
      "version": "3.11.7"
    }
  },
  "nbformat": 4,
  "nbformat_minor": 0
}
